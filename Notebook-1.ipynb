{
 "cells": [
  {
   "cell_type": "code",
   "execution_count": 1,
   "id": "1191bd5d",
   "metadata": {},
   "outputs": [],
   "source": [
    "# import all the libraries\n",
    "import numpy as np\n",
    "import pandas as pd\n",
    "import matplotlib.pyplot as plt\n",
    "import seaborn as sns"
   ]
  },
  {
   "cell_type": "code",
   "execution_count": 2,
   "id": "6cca2849",
   "metadata": {},
   "outputs": [],
   "source": [
    "# import and read the dataset\n",
    "df = pd.read_excel(\"E:/Eye dataset.xlsx\")"
   ]
  },
  {
   "cell_type": "code",
   "execution_count": 3,
   "id": "87ecba1d",
   "metadata": {},
   "outputs": [],
   "source": [
    "# create a new copy\n",
    "new = df.copy()"
   ]
  },
  {
   "cell_type": "code",
   "execution_count": 4,
   "id": "4bacce44",
   "metadata": {},
   "outputs": [
    {
     "data": {
      "text/html": [
       "<div>\n",
       "<style scoped>\n",
       "    .dataframe tbody tr th:only-of-type {\n",
       "        vertical-align: middle;\n",
       "    }\n",
       "\n",
       "    .dataframe tbody tr th {\n",
       "        vertical-align: top;\n",
       "    }\n",
       "\n",
       "    .dataframe thead th {\n",
       "        text-align: right;\n",
       "    }\n",
       "</style>\n",
       "<table border=\"1\" class=\"dataframe\">\n",
       "  <thead>\n",
       "    <tr style=\"text-align: right;\">\n",
       "      <th></th>\n",
       "      <th>Time</th>\n",
       "      <th>Age group</th>\n",
       "      <th>Screen time</th>\n",
       "      <th>Level of dryness</th>\n",
       "      <th>Spectacles</th>\n",
       "      <th>Right lens</th>\n",
       "      <th>Left lens</th>\n",
       "      <th>Name</th>\n",
       "      <th>Parents</th>\n",
       "      <th>Gender</th>\n",
       "    </tr>\n",
       "  </thead>\n",
       "  <tbody>\n",
       "    <tr>\n",
       "      <th>0</th>\n",
       "      <td>2022-05-10 16:10:27.420000</td>\n",
       "      <td>Above 20 yrs</td>\n",
       "      <td>3 to 4 hr</td>\n",
       "      <td>2 - sometimes</td>\n",
       "      <td>Yes</td>\n",
       "      <td>-1</td>\n",
       "      <td>-0.5</td>\n",
       "      <td>Aryan Rakheja</td>\n",
       "      <td>1</td>\n",
       "      <td>Male</td>\n",
       "    </tr>\n",
       "    <tr>\n",
       "      <th>1</th>\n",
       "      <td>2022-05-11 09:17:02.745000</td>\n",
       "      <td>18-20 yrs</td>\n",
       "      <td>more than 4 hr</td>\n",
       "      <td>0 - never</td>\n",
       "      <td>No</td>\n",
       "      <td>0</td>\n",
       "      <td>0</td>\n",
       "      <td>Sakshi</td>\n",
       "      <td>0</td>\n",
       "      <td>Female</td>\n",
       "    </tr>\n",
       "    <tr>\n",
       "      <th>2</th>\n",
       "      <td>2022-05-11 09:18:20.260000</td>\n",
       "      <td>Above 20 yrs</td>\n",
       "      <td>more than 4 hr</td>\n",
       "      <td>0 - never</td>\n",
       "      <td>Yes</td>\n",
       "      <td>-1.4</td>\n",
       "      <td>-1.35</td>\n",
       "      <td>Lavanya</td>\n",
       "      <td>1</td>\n",
       "      <td>Female</td>\n",
       "    </tr>\n",
       "    <tr>\n",
       "      <th>3</th>\n",
       "      <td>2022-05-11 09:20:34.916000</td>\n",
       "      <td>18-20 yrs</td>\n",
       "      <td>more than 4 hr</td>\n",
       "      <td>2 - sometimes</td>\n",
       "      <td>Yes</td>\n",
       "      <td>-4</td>\n",
       "      <td>-4.5</td>\n",
       "      <td>Rohan Saini</td>\n",
       "      <td>1</td>\n",
       "      <td>Male</td>\n",
       "    </tr>\n",
       "    <tr>\n",
       "      <th>4</th>\n",
       "      <td>2022-05-11 22:59:32.559000</td>\n",
       "      <td>18-20 yrs</td>\n",
       "      <td>3 to 4 hr</td>\n",
       "      <td>1 - rarely</td>\n",
       "      <td>Yes</td>\n",
       "      <td>-3</td>\n",
       "      <td>-3.5</td>\n",
       "      <td>Vaishnavi Sharma</td>\n",
       "      <td>1</td>\n",
       "      <td>Female</td>\n",
       "    </tr>\n",
       "  </tbody>\n",
       "</table>\n",
       "</div>"
      ],
      "text/plain": [
       "                         Time     Age group     Screen time Level of dryness  \\\n",
       "0  2022-05-10 16:10:27.420000  Above 20 yrs       3 to 4 hr    2 - sometimes   \n",
       "1  2022-05-11 09:17:02.745000     18-20 yrs  more than 4 hr        0 - never   \n",
       "2  2022-05-11 09:18:20.260000  Above 20 yrs  more than 4 hr        0 - never   \n",
       "3  2022-05-11 09:20:34.916000     18-20 yrs  more than 4 hr    2 - sometimes   \n",
       "4  2022-05-11 22:59:32.559000     18-20 yrs       3 to 4 hr       1 - rarely   \n",
       "\n",
       "  Spectacles Right lens Left lens               Name  Parents  Gender  \n",
       "0        Yes         -1      -0.5      Aryan Rakheja        1    Male  \n",
       "1         No          0         0             Sakshi        0  Female  \n",
       "2        Yes       -1.4     -1.35           Lavanya         1  Female  \n",
       "3        Yes         -4      -4.5        Rohan Saini        1    Male  \n",
       "4        Yes         -3      -3.5  Vaishnavi Sharma         1  Female  "
      ]
     },
     "execution_count": 4,
     "metadata": {},
     "output_type": "execute_result"
    }
   ],
   "source": [
    "# first 5 rows\n",
    "new.head()"
   ]
  },
  {
   "cell_type": "code",
   "execution_count": 5,
   "id": "ffdbb551",
   "metadata": {},
   "outputs": [],
   "source": [
    "# Time column not required\n",
    "new = new.drop([\"Time\"],axis=1)"
   ]
  },
  {
   "cell_type": "code",
   "execution_count": 6,
   "id": "d9fc024d",
   "metadata": {},
   "outputs": [],
   "source": [
    "# Name column also not required\n",
    "new = new.drop([\"Name\"],axis=1)"
   ]
  },
  {
   "cell_type": "code",
   "execution_count": 7,
   "id": "c46152be",
   "metadata": {},
   "outputs": [
    {
     "data": {
      "text/html": [
       "<div>\n",
       "<style scoped>\n",
       "    .dataframe tbody tr th:only-of-type {\n",
       "        vertical-align: middle;\n",
       "    }\n",
       "\n",
       "    .dataframe tbody tr th {\n",
       "        vertical-align: top;\n",
       "    }\n",
       "\n",
       "    .dataframe thead th {\n",
       "        text-align: right;\n",
       "    }\n",
       "</style>\n",
       "<table border=\"1\" class=\"dataframe\">\n",
       "  <thead>\n",
       "    <tr style=\"text-align: right;\">\n",
       "      <th></th>\n",
       "      <th>Age group</th>\n",
       "      <th>Screen time</th>\n",
       "      <th>Level of dryness</th>\n",
       "      <th>Spectacles</th>\n",
       "      <th>Right lens</th>\n",
       "      <th>Left lens</th>\n",
       "      <th>Parents</th>\n",
       "      <th>Gender</th>\n",
       "    </tr>\n",
       "  </thead>\n",
       "  <tbody>\n",
       "    <tr>\n",
       "      <th>0</th>\n",
       "      <td>Above 20 yrs</td>\n",
       "      <td>3 to 4 hr</td>\n",
       "      <td>2 - sometimes</td>\n",
       "      <td>Yes</td>\n",
       "      <td>-1</td>\n",
       "      <td>-0.5</td>\n",
       "      <td>1</td>\n",
       "      <td>Male</td>\n",
       "    </tr>\n",
       "    <tr>\n",
       "      <th>1</th>\n",
       "      <td>18-20 yrs</td>\n",
       "      <td>more than 4 hr</td>\n",
       "      <td>0 - never</td>\n",
       "      <td>No</td>\n",
       "      <td>0</td>\n",
       "      <td>0</td>\n",
       "      <td>0</td>\n",
       "      <td>Female</td>\n",
       "    </tr>\n",
       "    <tr>\n",
       "      <th>2</th>\n",
       "      <td>Above 20 yrs</td>\n",
       "      <td>more than 4 hr</td>\n",
       "      <td>0 - never</td>\n",
       "      <td>Yes</td>\n",
       "      <td>-1.4</td>\n",
       "      <td>-1.35</td>\n",
       "      <td>1</td>\n",
       "      <td>Female</td>\n",
       "    </tr>\n",
       "    <tr>\n",
       "      <th>3</th>\n",
       "      <td>18-20 yrs</td>\n",
       "      <td>more than 4 hr</td>\n",
       "      <td>2 - sometimes</td>\n",
       "      <td>Yes</td>\n",
       "      <td>-4</td>\n",
       "      <td>-4.5</td>\n",
       "      <td>1</td>\n",
       "      <td>Male</td>\n",
       "    </tr>\n",
       "    <tr>\n",
       "      <th>4</th>\n",
       "      <td>18-20 yrs</td>\n",
       "      <td>3 to 4 hr</td>\n",
       "      <td>1 - rarely</td>\n",
       "      <td>Yes</td>\n",
       "      <td>-3</td>\n",
       "      <td>-3.5</td>\n",
       "      <td>1</td>\n",
       "      <td>Female</td>\n",
       "    </tr>\n",
       "  </tbody>\n",
       "</table>\n",
       "</div>"
      ],
      "text/plain": [
       "      Age group     Screen time Level of dryness Spectacles Right lens  \\\n",
       "0  Above 20 yrs       3 to 4 hr    2 - sometimes        Yes         -1   \n",
       "1     18-20 yrs  more than 4 hr        0 - never         No          0   \n",
       "2  Above 20 yrs  more than 4 hr        0 - never        Yes       -1.4   \n",
       "3     18-20 yrs  more than 4 hr    2 - sometimes        Yes         -4   \n",
       "4     18-20 yrs       3 to 4 hr       1 - rarely        Yes         -3   \n",
       "\n",
       "  Left lens  Parents  Gender  \n",
       "0      -0.5        1    Male  \n",
       "1         0        0  Female  \n",
       "2     -1.35        1  Female  \n",
       "3      -4.5        1    Male  \n",
       "4      -3.5        1  Female  "
      ]
     },
     "execution_count": 7,
     "metadata": {},
     "output_type": "execute_result"
    }
   ],
   "source": [
    "# now again check first 5 rows\n",
    "new.head()"
   ]
  },
  {
   "cell_type": "code",
   "execution_count": 8,
   "id": "7888f20e",
   "metadata": {},
   "outputs": [
    {
     "name": "stdout",
     "output_type": "stream",
     "text": [
      "<class 'pandas.core.frame.DataFrame'>\n",
      "RangeIndex: 299 entries, 0 to 298\n",
      "Data columns (total 8 columns):\n",
      " #   Column            Non-Null Count  Dtype \n",
      "---  ------            --------------  ----- \n",
      " 0   Age group         299 non-null    object\n",
      " 1   Screen time       299 non-null    object\n",
      " 2   Level of dryness  299 non-null    object\n",
      " 3   Spectacles        299 non-null    object\n",
      " 4   Right lens        298 non-null    object\n",
      " 5   Left lens         298 non-null    object\n",
      " 6   Parents           299 non-null    int64 \n",
      " 7   Gender            299 non-null    object\n",
      "dtypes: int64(1), object(7)\n",
      "memory usage: 18.8+ KB\n"
     ]
    }
   ],
   "source": [
    "# basic info about data\n",
    "new.info()"
   ]
  },
  {
   "cell_type": "code",
   "execution_count": 9,
   "id": "3a5dafe8",
   "metadata": {},
   "outputs": [
    {
     "data": {
      "text/plain": [
       "Age group           object\n",
       "Screen time         object\n",
       "Level of dryness    object\n",
       "Spectacles          object\n",
       "Right lens          object\n",
       "Left lens           object\n",
       "Parents              int64\n",
       "Gender              object\n",
       "dtype: object"
      ]
     },
     "execution_count": 9,
     "metadata": {},
     "output_type": "execute_result"
    }
   ],
   "source": [
    "# data types\n",
    "new.dtypes"
   ]
  },
  {
   "cell_type": "code",
   "execution_count": 10,
   "id": "c77ef733",
   "metadata": {},
   "outputs": [
    {
     "data": {
      "text/plain": [
       "pandas.core.frame.DataFrame"
      ]
     },
     "execution_count": 10,
     "metadata": {},
     "output_type": "execute_result"
    }
   ],
   "source": [
    "# type of dataframe\n",
    "type(new)"
   ]
  },
  {
   "cell_type": "code",
   "execution_count": 11,
   "id": "fa3e50f3",
   "metadata": {},
   "outputs": [],
   "source": [
    "# Power of lens not required\n",
    "remove = ['Right lens','Left lens']"
   ]
  },
  {
   "cell_type": "code",
   "execution_count": 12,
   "id": "4ae43a95",
   "metadata": {},
   "outputs": [],
   "source": [
    "# drop the columns in 'remove' list as well\n",
    "new = new.drop(remove,axis=1)"
   ]
  },
  {
   "cell_type": "code",
   "execution_count": 13,
   "id": "f6d74336",
   "metadata": {},
   "outputs": [
    {
     "data": {
      "text/plain": [
       "Age group           0\n",
       "Screen time         0\n",
       "Level of dryness    0\n",
       "Spectacles          0\n",
       "Parents             0\n",
       "Gender              0\n",
       "dtype: int64"
      ]
     },
     "execution_count": 13,
     "metadata": {},
     "output_type": "execute_result"
    }
   ],
   "source": [
    "# null values\n",
    "new.isnull().sum()"
   ]
  },
  {
   "cell_type": "code",
   "execution_count": 14,
   "id": "4813fbfd",
   "metadata": {},
   "outputs": [
    {
     "data": {
      "text/html": [
       "<div>\n",
       "<style scoped>\n",
       "    .dataframe tbody tr th:only-of-type {\n",
       "        vertical-align: middle;\n",
       "    }\n",
       "\n",
       "    .dataframe tbody tr th {\n",
       "        vertical-align: top;\n",
       "    }\n",
       "\n",
       "    .dataframe thead th {\n",
       "        text-align: right;\n",
       "    }\n",
       "</style>\n",
       "<table border=\"1\" class=\"dataframe\">\n",
       "  <thead>\n",
       "    <tr style=\"text-align: right;\">\n",
       "      <th></th>\n",
       "      <th>Parents</th>\n",
       "    </tr>\n",
       "  </thead>\n",
       "  <tbody>\n",
       "    <tr>\n",
       "      <th>count</th>\n",
       "      <td>299.000000</td>\n",
       "    </tr>\n",
       "    <tr>\n",
       "      <th>mean</th>\n",
       "      <td>0.441472</td>\n",
       "    </tr>\n",
       "    <tr>\n",
       "      <th>std</th>\n",
       "      <td>0.497395</td>\n",
       "    </tr>\n",
       "    <tr>\n",
       "      <th>min</th>\n",
       "      <td>0.000000</td>\n",
       "    </tr>\n",
       "    <tr>\n",
       "      <th>25%</th>\n",
       "      <td>0.000000</td>\n",
       "    </tr>\n",
       "    <tr>\n",
       "      <th>50%</th>\n",
       "      <td>0.000000</td>\n",
       "    </tr>\n",
       "    <tr>\n",
       "      <th>75%</th>\n",
       "      <td>1.000000</td>\n",
       "    </tr>\n",
       "    <tr>\n",
       "      <th>max</th>\n",
       "      <td>1.000000</td>\n",
       "    </tr>\n",
       "  </tbody>\n",
       "</table>\n",
       "</div>"
      ],
      "text/plain": [
       "          Parents\n",
       "count  299.000000\n",
       "mean     0.441472\n",
       "std      0.497395\n",
       "min      0.000000\n",
       "25%      0.000000\n",
       "50%      0.000000\n",
       "75%      1.000000\n",
       "max      1.000000"
      ]
     },
     "execution_count": 14,
     "metadata": {},
     "output_type": "execute_result"
    }
   ],
   "source": [
    "# statistical summary \n",
    "new.describe()"
   ]
  },
  {
   "cell_type": "code",
   "execution_count": 15,
   "id": "87ac29cc",
   "metadata": {},
   "outputs": [
    {
     "data": {
      "text/plain": [
       "(299, 6)"
      ]
     },
     "execution_count": 15,
     "metadata": {},
     "output_type": "execute_result"
    }
   ],
   "source": [
    "# shape of dataframe\n",
    "new.shape"
   ]
  },
  {
   "cell_type": "code",
   "execution_count": 32,
   "id": "5ad89780",
   "metadata": {},
   "outputs": [
    {
     "data": {
      "text/plain": [
       "No     158\n",
       "Yes    141\n",
       "Name: Spectacles, dtype: int64"
      ]
     },
     "execution_count": 32,
     "metadata": {},
     "output_type": "execute_result"
    }
   ],
   "source": [
    "new.Spectacles.value_counts()"
   ]
  },
  {
   "cell_type": "code",
   "execution_count": 33,
   "id": "a645b520",
   "metadata": {},
   "outputs": [
    {
     "data": {
      "text/plain": [
       "155"
      ]
     },
     "execution_count": 33,
     "metadata": {},
     "output_type": "execute_result"
    }
   ],
   "source": [
    "new.duplicated().sum()"
   ]
  },
  {
   "cell_type": "code",
   "execution_count": 34,
   "id": "c65594f6",
   "metadata": {},
   "outputs": [
    {
     "data": {
      "text/plain": [
       "more than 4 hr      168\n",
       "3 to 4 hr            53\n",
       "1.5 hr to 3 hr       50\n",
       "30 min to 1.5 hr     22\n",
       "less than 30 min      6\n",
       "Name: Screen time, dtype: int64"
      ]
     },
     "execution_count": 34,
     "metadata": {},
     "output_type": "execute_result"
    }
   ],
   "source": [
    "new['Screen time'].value_counts()"
   ]
  },
  {
   "cell_type": "code",
   "execution_count": 35,
   "id": "70e38de1",
   "metadata": {},
   "outputs": [],
   "source": [
    "import random"
   ]
  },
  {
   "cell_type": "code",
   "execution_count": 36,
   "id": "30abefda",
   "metadata": {},
   "outputs": [],
   "source": [
    "new1 = new[new['Screen time']=='less than 30 min']"
   ]
  },
  {
   "cell_type": "code",
   "execution_count": 37,
   "id": "13389b98",
   "metadata": {},
   "outputs": [],
   "source": [
    "new2 = new[new['Screen time']=='30 min to 1.5 hr']"
   ]
  },
  {
   "cell_type": "code",
   "execution_count": 38,
   "id": "f711e9ef",
   "metadata": {},
   "outputs": [],
   "source": [
    "new3 = new[new['Screen time']=='1.5 hr to 3 hr']"
   ]
  },
  {
   "cell_type": "code",
   "execution_count": 39,
   "id": "626f86ac",
   "metadata": {},
   "outputs": [],
   "source": [
    "new4 = new[new['Screen time']=='3 to 4 hr']"
   ]
  },
  {
   "cell_type": "code",
   "execution_count": 40,
   "id": "d1e8d1d9",
   "metadata": {},
   "outputs": [],
   "source": [
    "new5 = new[new['Screen time']=='more than 4 hr']"
   ]
  },
  {
   "cell_type": "code",
   "execution_count": 41,
   "id": "6dd67965",
   "metadata": {},
   "outputs": [
    {
     "data": {
      "text/html": [
       "<div>\n",
       "<style scoped>\n",
       "    .dataframe tbody tr th:only-of-type {\n",
       "        vertical-align: middle;\n",
       "    }\n",
       "\n",
       "    .dataframe tbody tr th {\n",
       "        vertical-align: top;\n",
       "    }\n",
       "\n",
       "    .dataframe thead th {\n",
       "        text-align: right;\n",
       "    }\n",
       "</style>\n",
       "<table border=\"1\" class=\"dataframe\">\n",
       "  <thead>\n",
       "    <tr style=\"text-align: right;\">\n",
       "      <th></th>\n",
       "      <th>Age group</th>\n",
       "      <th>Screen time</th>\n",
       "      <th>Level of dryness</th>\n",
       "      <th>Spectacles</th>\n",
       "      <th>Parents</th>\n",
       "      <th>Gender</th>\n",
       "    </tr>\n",
       "  </thead>\n",
       "  <tbody>\n",
       "    <tr>\n",
       "      <th>76</th>\n",
       "      <td>15-18 yrs</td>\n",
       "      <td>less than 30 min</td>\n",
       "      <td>0 - never</td>\n",
       "      <td>No</td>\n",
       "      <td>0</td>\n",
       "      <td>Male</td>\n",
       "    </tr>\n",
       "    <tr>\n",
       "      <th>80</th>\n",
       "      <td>Above 20 yrs</td>\n",
       "      <td>less than 30 min</td>\n",
       "      <td>0 - never</td>\n",
       "      <td>Yes</td>\n",
       "      <td>1</td>\n",
       "      <td>Female</td>\n",
       "    </tr>\n",
       "    <tr>\n",
       "      <th>97</th>\n",
       "      <td>Above 20 yrs</td>\n",
       "      <td>less than 30 min</td>\n",
       "      <td>1 - rarely</td>\n",
       "      <td>No</td>\n",
       "      <td>0</td>\n",
       "      <td>Male</td>\n",
       "    </tr>\n",
       "    <tr>\n",
       "      <th>167</th>\n",
       "      <td>Above 20 yrs</td>\n",
       "      <td>less than 30 min</td>\n",
       "      <td>1 - rarely</td>\n",
       "      <td>No</td>\n",
       "      <td>1</td>\n",
       "      <td>Male</td>\n",
       "    </tr>\n",
       "    <tr>\n",
       "      <th>282</th>\n",
       "      <td>18-20 yrs</td>\n",
       "      <td>less than 30 min</td>\n",
       "      <td>2 - sometimes</td>\n",
       "      <td>No</td>\n",
       "      <td>0</td>\n",
       "      <td>Male</td>\n",
       "    </tr>\n",
       "  </tbody>\n",
       "</table>\n",
       "</div>"
      ],
      "text/plain": [
       "        Age group       Screen time Level of dryness Spectacles  Parents  \\\n",
       "76      15-18 yrs  less than 30 min        0 - never         No        0   \n",
       "80   Above 20 yrs  less than 30 min        0 - never        Yes        1   \n",
       "97   Above 20 yrs  less than 30 min       1 - rarely         No        0   \n",
       "167  Above 20 yrs  less than 30 min       1 - rarely         No        1   \n",
       "282     18-20 yrs  less than 30 min    2 - sometimes         No        0   \n",
       "\n",
       "     Gender  \n",
       "76     Male  \n",
       "80   Female  \n",
       "97     Male  \n",
       "167    Male  \n",
       "282    Male  "
      ]
     },
     "execution_count": 41,
     "metadata": {},
     "output_type": "execute_result"
    }
   ],
   "source": [
    "new1.head()"
   ]
  },
  {
   "cell_type": "code",
   "execution_count": 42,
   "id": "036f0b16",
   "metadata": {},
   "outputs": [
    {
     "data": {
      "text/plain": [
       "(6, 6)"
      ]
     },
     "execution_count": 42,
     "metadata": {},
     "output_type": "execute_result"
    }
   ],
   "source": [
    "new1.shape"
   ]
  },
  {
   "cell_type": "code",
   "execution_count": 43,
   "id": "3ee6baee",
   "metadata": {},
   "outputs": [],
   "source": [
    "l1 = []\n",
    "for i in range(len(new1)):\n",
    "    n = random.randint(0,30)\n",
    "    l1.append(n)"
   ]
  },
  {
   "cell_type": "code",
   "execution_count": 44,
   "id": "bbf03dd3",
   "metadata": {},
   "outputs": [
    {
     "data": {
      "text/plain": [
       "[24, 8, 12, 19, 21, 4]"
      ]
     },
     "execution_count": 44,
     "metadata": {},
     "output_type": "execute_result"
    }
   ],
   "source": [
    "l1"
   ]
  },
  {
   "cell_type": "code",
   "execution_count": 45,
   "id": "bbdde709",
   "metadata": {},
   "outputs": [
    {
     "name": "stderr",
     "output_type": "stream",
     "text": [
      "<ipython-input-45-59324de234cb>:1: SettingWithCopyWarning: \n",
      "A value is trying to be set on a copy of a slice from a DataFrame.\n",
      "Try using .loc[row_indexer,col_indexer] = value instead\n",
      "\n",
      "See the caveats in the documentation: https://pandas.pydata.org/pandas-docs/stable/user_guide/indexing.html#returning-a-view-versus-a-copy\n",
      "  new1['Screen time new']=l1\n"
     ]
    }
   ],
   "source": [
    "new1['Screen time new']=l1"
   ]
  },
  {
   "cell_type": "code",
   "execution_count": 46,
   "id": "1fb077ae",
   "metadata": {},
   "outputs": [
    {
     "data": {
      "text/html": [
       "<div>\n",
       "<style scoped>\n",
       "    .dataframe tbody tr th:only-of-type {\n",
       "        vertical-align: middle;\n",
       "    }\n",
       "\n",
       "    .dataframe tbody tr th {\n",
       "        vertical-align: top;\n",
       "    }\n",
       "\n",
       "    .dataframe thead th {\n",
       "        text-align: right;\n",
       "    }\n",
       "</style>\n",
       "<table border=\"1\" class=\"dataframe\">\n",
       "  <thead>\n",
       "    <tr style=\"text-align: right;\">\n",
       "      <th></th>\n",
       "      <th>Age group</th>\n",
       "      <th>Screen time</th>\n",
       "      <th>Level of dryness</th>\n",
       "      <th>Spectacles</th>\n",
       "      <th>Parents</th>\n",
       "      <th>Gender</th>\n",
       "      <th>Screen time new</th>\n",
       "    </tr>\n",
       "  </thead>\n",
       "  <tbody>\n",
       "    <tr>\n",
       "      <th>76</th>\n",
       "      <td>15-18 yrs</td>\n",
       "      <td>less than 30 min</td>\n",
       "      <td>0 - never</td>\n",
       "      <td>No</td>\n",
       "      <td>0</td>\n",
       "      <td>Male</td>\n",
       "      <td>24</td>\n",
       "    </tr>\n",
       "    <tr>\n",
       "      <th>80</th>\n",
       "      <td>Above 20 yrs</td>\n",
       "      <td>less than 30 min</td>\n",
       "      <td>0 - never</td>\n",
       "      <td>Yes</td>\n",
       "      <td>1</td>\n",
       "      <td>Female</td>\n",
       "      <td>8</td>\n",
       "    </tr>\n",
       "    <tr>\n",
       "      <th>97</th>\n",
       "      <td>Above 20 yrs</td>\n",
       "      <td>less than 30 min</td>\n",
       "      <td>1 - rarely</td>\n",
       "      <td>No</td>\n",
       "      <td>0</td>\n",
       "      <td>Male</td>\n",
       "      <td>12</td>\n",
       "    </tr>\n",
       "    <tr>\n",
       "      <th>167</th>\n",
       "      <td>Above 20 yrs</td>\n",
       "      <td>less than 30 min</td>\n",
       "      <td>1 - rarely</td>\n",
       "      <td>No</td>\n",
       "      <td>1</td>\n",
       "      <td>Male</td>\n",
       "      <td>19</td>\n",
       "    </tr>\n",
       "    <tr>\n",
       "      <th>282</th>\n",
       "      <td>18-20 yrs</td>\n",
       "      <td>less than 30 min</td>\n",
       "      <td>2 - sometimes</td>\n",
       "      <td>No</td>\n",
       "      <td>0</td>\n",
       "      <td>Male</td>\n",
       "      <td>21</td>\n",
       "    </tr>\n",
       "  </tbody>\n",
       "</table>\n",
       "</div>"
      ],
      "text/plain": [
       "        Age group       Screen time Level of dryness Spectacles  Parents  \\\n",
       "76      15-18 yrs  less than 30 min        0 - never         No        0   \n",
       "80   Above 20 yrs  less than 30 min        0 - never        Yes        1   \n",
       "97   Above 20 yrs  less than 30 min       1 - rarely         No        0   \n",
       "167  Above 20 yrs  less than 30 min       1 - rarely         No        1   \n",
       "282     18-20 yrs  less than 30 min    2 - sometimes         No        0   \n",
       "\n",
       "     Gender  Screen time new  \n",
       "76     Male               24  \n",
       "80   Female                8  \n",
       "97     Male               12  \n",
       "167    Male               19  \n",
       "282    Male               21  "
      ]
     },
     "execution_count": 46,
     "metadata": {},
     "output_type": "execute_result"
    }
   ],
   "source": [
    "new1.head()"
   ]
  },
  {
   "cell_type": "code",
   "execution_count": 47,
   "id": "00c7e4a0",
   "metadata": {},
   "outputs": [
    {
     "data": {
      "text/plain": [
       "(22, 6)"
      ]
     },
     "execution_count": 47,
     "metadata": {},
     "output_type": "execute_result"
    }
   ],
   "source": [
    "new2.shape"
   ]
  },
  {
   "cell_type": "code",
   "execution_count": 48,
   "id": "931a3b52",
   "metadata": {},
   "outputs": [],
   "source": [
    "l2 = []\n",
    "for i in range(len(new2)):\n",
    "    n = random.randint(30,90)\n",
    "    l2.append(n)"
   ]
  },
  {
   "cell_type": "code",
   "execution_count": 49,
   "id": "95350fa1",
   "metadata": {},
   "outputs": [
    {
     "name": "stderr",
     "output_type": "stream",
     "text": [
      "<ipython-input-49-a23fe5c1ed17>:1: SettingWithCopyWarning: \n",
      "A value is trying to be set on a copy of a slice from a DataFrame.\n",
      "Try using .loc[row_indexer,col_indexer] = value instead\n",
      "\n",
      "See the caveats in the documentation: https://pandas.pydata.org/pandas-docs/stable/user_guide/indexing.html#returning-a-view-versus-a-copy\n",
      "  new2['Screen time new']=l2\n"
     ]
    }
   ],
   "source": [
    "new2['Screen time new']=l2"
   ]
  },
  {
   "cell_type": "code",
   "execution_count": 50,
   "id": "28f36640",
   "metadata": {},
   "outputs": [
    {
     "data": {
      "text/html": [
       "<div>\n",
       "<style scoped>\n",
       "    .dataframe tbody tr th:only-of-type {\n",
       "        vertical-align: middle;\n",
       "    }\n",
       "\n",
       "    .dataframe tbody tr th {\n",
       "        vertical-align: top;\n",
       "    }\n",
       "\n",
       "    .dataframe thead th {\n",
       "        text-align: right;\n",
       "    }\n",
       "</style>\n",
       "<table border=\"1\" class=\"dataframe\">\n",
       "  <thead>\n",
       "    <tr style=\"text-align: right;\">\n",
       "      <th></th>\n",
       "      <th>Age group</th>\n",
       "      <th>Screen time</th>\n",
       "      <th>Level of dryness</th>\n",
       "      <th>Spectacles</th>\n",
       "      <th>Parents</th>\n",
       "      <th>Gender</th>\n",
       "      <th>Screen time new</th>\n",
       "    </tr>\n",
       "  </thead>\n",
       "  <tbody>\n",
       "    <tr>\n",
       "      <th>32</th>\n",
       "      <td>15-18 yrs</td>\n",
       "      <td>30 min to 1.5 hr</td>\n",
       "      <td>2 - sometimes</td>\n",
       "      <td>No</td>\n",
       "      <td>0</td>\n",
       "      <td>Male</td>\n",
       "      <td>35</td>\n",
       "    </tr>\n",
       "    <tr>\n",
       "      <th>34</th>\n",
       "      <td>15-18 yrs</td>\n",
       "      <td>30 min to 1.5 hr</td>\n",
       "      <td>4 - always</td>\n",
       "      <td>Yes</td>\n",
       "      <td>0</td>\n",
       "      <td>Female</td>\n",
       "      <td>78</td>\n",
       "    </tr>\n",
       "    <tr>\n",
       "      <th>37</th>\n",
       "      <td>15-18 yrs</td>\n",
       "      <td>30 min to 1.5 hr</td>\n",
       "      <td>0 - never</td>\n",
       "      <td>No</td>\n",
       "      <td>0</td>\n",
       "      <td>Female</td>\n",
       "      <td>65</td>\n",
       "    </tr>\n",
       "    <tr>\n",
       "      <th>48</th>\n",
       "      <td>15-18 yrs</td>\n",
       "      <td>30 min to 1.5 hr</td>\n",
       "      <td>1 - rarely</td>\n",
       "      <td>No</td>\n",
       "      <td>0</td>\n",
       "      <td>Male</td>\n",
       "      <td>48</td>\n",
       "    </tr>\n",
       "    <tr>\n",
       "      <th>51</th>\n",
       "      <td>15-18 yrs</td>\n",
       "      <td>30 min to 1.5 hr</td>\n",
       "      <td>0 - never</td>\n",
       "      <td>No</td>\n",
       "      <td>0</td>\n",
       "      <td>Male</td>\n",
       "      <td>58</td>\n",
       "    </tr>\n",
       "  </tbody>\n",
       "</table>\n",
       "</div>"
      ],
      "text/plain": [
       "    Age group       Screen time Level of dryness Spectacles  Parents  Gender  \\\n",
       "32  15-18 yrs  30 min to 1.5 hr    2 - sometimes         No        0    Male   \n",
       "34  15-18 yrs  30 min to 1.5 hr       4 - always        Yes        0  Female   \n",
       "37  15-18 yrs  30 min to 1.5 hr        0 - never         No        0  Female   \n",
       "48  15-18 yrs  30 min to 1.5 hr       1 - rarely         No        0    Male   \n",
       "51  15-18 yrs  30 min to 1.5 hr        0 - never         No        0    Male   \n",
       "\n",
       "    Screen time new  \n",
       "32               35  \n",
       "34               78  \n",
       "37               65  \n",
       "48               48  \n",
       "51               58  "
      ]
     },
     "execution_count": 50,
     "metadata": {},
     "output_type": "execute_result"
    }
   ],
   "source": [
    "new2.head()"
   ]
  },
  {
   "cell_type": "code",
   "execution_count": 51,
   "id": "058dd0ca",
   "metadata": {},
   "outputs": [
    {
     "data": {
      "text/plain": [
       "(50, 6)"
      ]
     },
     "execution_count": 51,
     "metadata": {},
     "output_type": "execute_result"
    }
   ],
   "source": [
    "new3.shape"
   ]
  },
  {
   "cell_type": "code",
   "execution_count": 52,
   "id": "e08e5608",
   "metadata": {},
   "outputs": [],
   "source": [
    "l3 = []\n",
    "for i in range(len(new3)):\n",
    "    n = random.randint(90,180)\n",
    "    l3.append(n)"
   ]
  },
  {
   "cell_type": "code",
   "execution_count": 53,
   "id": "71d13752",
   "metadata": {},
   "outputs": [
    {
     "name": "stderr",
     "output_type": "stream",
     "text": [
      "<ipython-input-53-ccc4353bcffd>:1: SettingWithCopyWarning: \n",
      "A value is trying to be set on a copy of a slice from a DataFrame.\n",
      "Try using .loc[row_indexer,col_indexer] = value instead\n",
      "\n",
      "See the caveats in the documentation: https://pandas.pydata.org/pandas-docs/stable/user_guide/indexing.html#returning-a-view-versus-a-copy\n",
      "  new3['Screen time new']=l3\n"
     ]
    }
   ],
   "source": [
    "new3['Screen time new']=l3"
   ]
  },
  {
   "cell_type": "code",
   "execution_count": 54,
   "id": "91426a83",
   "metadata": {},
   "outputs": [
    {
     "data": {
      "text/html": [
       "<div>\n",
       "<style scoped>\n",
       "    .dataframe tbody tr th:only-of-type {\n",
       "        vertical-align: middle;\n",
       "    }\n",
       "\n",
       "    .dataframe tbody tr th {\n",
       "        vertical-align: top;\n",
       "    }\n",
       "\n",
       "    .dataframe thead th {\n",
       "        text-align: right;\n",
       "    }\n",
       "</style>\n",
       "<table border=\"1\" class=\"dataframe\">\n",
       "  <thead>\n",
       "    <tr style=\"text-align: right;\">\n",
       "      <th></th>\n",
       "      <th>Age group</th>\n",
       "      <th>Screen time</th>\n",
       "      <th>Level of dryness</th>\n",
       "      <th>Spectacles</th>\n",
       "      <th>Parents</th>\n",
       "      <th>Gender</th>\n",
       "      <th>Screen time new</th>\n",
       "    </tr>\n",
       "  </thead>\n",
       "  <tbody>\n",
       "    <tr>\n",
       "      <th>5</th>\n",
       "      <td>Above 20 yrs</td>\n",
       "      <td>1.5 hr to 3 hr</td>\n",
       "      <td>3 - very often</td>\n",
       "      <td>Yes</td>\n",
       "      <td>1</td>\n",
       "      <td>Male</td>\n",
       "      <td>100</td>\n",
       "    </tr>\n",
       "    <tr>\n",
       "      <th>7</th>\n",
       "      <td>Above 20 yrs</td>\n",
       "      <td>1.5 hr to 3 hr</td>\n",
       "      <td>1 - rarely</td>\n",
       "      <td>Yes</td>\n",
       "      <td>1</td>\n",
       "      <td>Male</td>\n",
       "      <td>96</td>\n",
       "    </tr>\n",
       "    <tr>\n",
       "      <th>30</th>\n",
       "      <td>15-18 yrs</td>\n",
       "      <td>1.5 hr to 3 hr</td>\n",
       "      <td>2 - sometimes</td>\n",
       "      <td>Yes</td>\n",
       "      <td>1</td>\n",
       "      <td>Male</td>\n",
       "      <td>150</td>\n",
       "    </tr>\n",
       "    <tr>\n",
       "      <th>36</th>\n",
       "      <td>15-18 yrs</td>\n",
       "      <td>1.5 hr to 3 hr</td>\n",
       "      <td>3 - very often</td>\n",
       "      <td>Yes</td>\n",
       "      <td>1</td>\n",
       "      <td>Male</td>\n",
       "      <td>118</td>\n",
       "    </tr>\n",
       "    <tr>\n",
       "      <th>38</th>\n",
       "      <td>15-18 yrs</td>\n",
       "      <td>1.5 hr to 3 hr</td>\n",
       "      <td>3 - very often</td>\n",
       "      <td>Yes</td>\n",
       "      <td>1</td>\n",
       "      <td>Male</td>\n",
       "      <td>150</td>\n",
       "    </tr>\n",
       "  </tbody>\n",
       "</table>\n",
       "</div>"
      ],
      "text/plain": [
       "       Age group     Screen time Level of dryness Spectacles  Parents Gender  \\\n",
       "5   Above 20 yrs  1.5 hr to 3 hr   3 - very often        Yes        1   Male   \n",
       "7   Above 20 yrs  1.5 hr to 3 hr       1 - rarely        Yes        1   Male   \n",
       "30     15-18 yrs  1.5 hr to 3 hr    2 - sometimes        Yes        1   Male   \n",
       "36     15-18 yrs  1.5 hr to 3 hr   3 - very often        Yes        1   Male   \n",
       "38     15-18 yrs  1.5 hr to 3 hr   3 - very often        Yes        1   Male   \n",
       "\n",
       "    Screen time new  \n",
       "5               100  \n",
       "7                96  \n",
       "30              150  \n",
       "36              118  \n",
       "38              150  "
      ]
     },
     "execution_count": 54,
     "metadata": {},
     "output_type": "execute_result"
    }
   ],
   "source": [
    "new3.head()"
   ]
  },
  {
   "cell_type": "code",
   "execution_count": 55,
   "id": "2daf0aa6",
   "metadata": {},
   "outputs": [
    {
     "data": {
      "text/plain": [
       "(53, 6)"
      ]
     },
     "execution_count": 55,
     "metadata": {},
     "output_type": "execute_result"
    }
   ],
   "source": [
    "new4.shape"
   ]
  },
  {
   "cell_type": "code",
   "execution_count": 56,
   "id": "d9121971",
   "metadata": {},
   "outputs": [],
   "source": [
    "l4 = []\n",
    "for i in range(len(new4)):\n",
    "    n = random.randint(180,240)\n",
    "    l4.append(n)"
   ]
  },
  {
   "cell_type": "code",
   "execution_count": 57,
   "id": "d0999f78",
   "metadata": {},
   "outputs": [
    {
     "name": "stderr",
     "output_type": "stream",
     "text": [
      "<ipython-input-57-81a781f91610>:1: SettingWithCopyWarning: \n",
      "A value is trying to be set on a copy of a slice from a DataFrame.\n",
      "Try using .loc[row_indexer,col_indexer] = value instead\n",
      "\n",
      "See the caveats in the documentation: https://pandas.pydata.org/pandas-docs/stable/user_guide/indexing.html#returning-a-view-versus-a-copy\n",
      "  new4['Screen time new']=l4\n"
     ]
    }
   ],
   "source": [
    "new4['Screen time new']=l4"
   ]
  },
  {
   "cell_type": "code",
   "execution_count": 58,
   "id": "f1a4c558",
   "metadata": {},
   "outputs": [
    {
     "data": {
      "text/html": [
       "<div>\n",
       "<style scoped>\n",
       "    .dataframe tbody tr th:only-of-type {\n",
       "        vertical-align: middle;\n",
       "    }\n",
       "\n",
       "    .dataframe tbody tr th {\n",
       "        vertical-align: top;\n",
       "    }\n",
       "\n",
       "    .dataframe thead th {\n",
       "        text-align: right;\n",
       "    }\n",
       "</style>\n",
       "<table border=\"1\" class=\"dataframe\">\n",
       "  <thead>\n",
       "    <tr style=\"text-align: right;\">\n",
       "      <th></th>\n",
       "      <th>Age group</th>\n",
       "      <th>Screen time</th>\n",
       "      <th>Level of dryness</th>\n",
       "      <th>Spectacles</th>\n",
       "      <th>Parents</th>\n",
       "      <th>Gender</th>\n",
       "      <th>Screen time new</th>\n",
       "    </tr>\n",
       "  </thead>\n",
       "  <tbody>\n",
       "    <tr>\n",
       "      <th>0</th>\n",
       "      <td>Above 20 yrs</td>\n",
       "      <td>3 to 4 hr</td>\n",
       "      <td>2 - sometimes</td>\n",
       "      <td>Yes</td>\n",
       "      <td>1</td>\n",
       "      <td>Male</td>\n",
       "      <td>210</td>\n",
       "    </tr>\n",
       "    <tr>\n",
       "      <th>4</th>\n",
       "      <td>18-20 yrs</td>\n",
       "      <td>3 to 4 hr</td>\n",
       "      <td>1 - rarely</td>\n",
       "      <td>Yes</td>\n",
       "      <td>1</td>\n",
       "      <td>Female</td>\n",
       "      <td>232</td>\n",
       "    </tr>\n",
       "    <tr>\n",
       "      <th>13</th>\n",
       "      <td>18-20 yrs</td>\n",
       "      <td>3 to 4 hr</td>\n",
       "      <td>2 - sometimes</td>\n",
       "      <td>No</td>\n",
       "      <td>0</td>\n",
       "      <td>Female</td>\n",
       "      <td>213</td>\n",
       "    </tr>\n",
       "    <tr>\n",
       "      <th>17</th>\n",
       "      <td>18-20 yrs</td>\n",
       "      <td>3 to 4 hr</td>\n",
       "      <td>0 - never</td>\n",
       "      <td>Yes</td>\n",
       "      <td>1</td>\n",
       "      <td>Female</td>\n",
       "      <td>185</td>\n",
       "    </tr>\n",
       "    <tr>\n",
       "      <th>22</th>\n",
       "      <td>18-20 yrs</td>\n",
       "      <td>3 to 4 hr</td>\n",
       "      <td>2 - sometimes</td>\n",
       "      <td>Yes</td>\n",
       "      <td>1</td>\n",
       "      <td>Female</td>\n",
       "      <td>224</td>\n",
       "    </tr>\n",
       "  </tbody>\n",
       "</table>\n",
       "</div>"
      ],
      "text/plain": [
       "       Age group Screen time Level of dryness Spectacles  Parents  Gender  \\\n",
       "0   Above 20 yrs   3 to 4 hr    2 - sometimes        Yes        1    Male   \n",
       "4      18-20 yrs   3 to 4 hr       1 - rarely        Yes        1  Female   \n",
       "13     18-20 yrs   3 to 4 hr    2 - sometimes         No        0  Female   \n",
       "17     18-20 yrs   3 to 4 hr        0 - never        Yes        1  Female   \n",
       "22     18-20 yrs   3 to 4 hr    2 - sometimes        Yes        1  Female   \n",
       "\n",
       "    Screen time new  \n",
       "0               210  \n",
       "4               232  \n",
       "13              213  \n",
       "17              185  \n",
       "22              224  "
      ]
     },
     "execution_count": 58,
     "metadata": {},
     "output_type": "execute_result"
    }
   ],
   "source": [
    "new4.head()"
   ]
  },
  {
   "cell_type": "code",
   "execution_count": 59,
   "id": "a78fc8fd",
   "metadata": {},
   "outputs": [
    {
     "data": {
      "text/plain": [
       "(168, 6)"
      ]
     },
     "execution_count": 59,
     "metadata": {},
     "output_type": "execute_result"
    }
   ],
   "source": [
    "new5.shape"
   ]
  },
  {
   "cell_type": "code",
   "execution_count": 60,
   "id": "0164a289",
   "metadata": {},
   "outputs": [],
   "source": [
    "l5 = []\n",
    "for i in range(len(new5)):\n",
    "    n = random.randint(240,420)\n",
    "    l5.append(n)"
   ]
  },
  {
   "cell_type": "code",
   "execution_count": 61,
   "id": "59dbc041",
   "metadata": {},
   "outputs": [
    {
     "name": "stderr",
     "output_type": "stream",
     "text": [
      "<ipython-input-61-4c9101ec133d>:1: SettingWithCopyWarning: \n",
      "A value is trying to be set on a copy of a slice from a DataFrame.\n",
      "Try using .loc[row_indexer,col_indexer] = value instead\n",
      "\n",
      "See the caveats in the documentation: https://pandas.pydata.org/pandas-docs/stable/user_guide/indexing.html#returning-a-view-versus-a-copy\n",
      "  new5['Screen time new']=l5\n"
     ]
    }
   ],
   "source": [
    "new5['Screen time new']=l5"
   ]
  },
  {
   "cell_type": "code",
   "execution_count": 62,
   "id": "6d2d9f33",
   "metadata": {},
   "outputs": [
    {
     "data": {
      "text/html": [
       "<div>\n",
       "<style scoped>\n",
       "    .dataframe tbody tr th:only-of-type {\n",
       "        vertical-align: middle;\n",
       "    }\n",
       "\n",
       "    .dataframe tbody tr th {\n",
       "        vertical-align: top;\n",
       "    }\n",
       "\n",
       "    .dataframe thead th {\n",
       "        text-align: right;\n",
       "    }\n",
       "</style>\n",
       "<table border=\"1\" class=\"dataframe\">\n",
       "  <thead>\n",
       "    <tr style=\"text-align: right;\">\n",
       "      <th></th>\n",
       "      <th>Age group</th>\n",
       "      <th>Screen time</th>\n",
       "      <th>Level of dryness</th>\n",
       "      <th>Spectacles</th>\n",
       "      <th>Parents</th>\n",
       "      <th>Gender</th>\n",
       "      <th>Screen time new</th>\n",
       "    </tr>\n",
       "  </thead>\n",
       "  <tbody>\n",
       "    <tr>\n",
       "      <th>1</th>\n",
       "      <td>18-20 yrs</td>\n",
       "      <td>more than 4 hr</td>\n",
       "      <td>0 - never</td>\n",
       "      <td>No</td>\n",
       "      <td>0</td>\n",
       "      <td>Female</td>\n",
       "      <td>347</td>\n",
       "    </tr>\n",
       "    <tr>\n",
       "      <th>2</th>\n",
       "      <td>Above 20 yrs</td>\n",
       "      <td>more than 4 hr</td>\n",
       "      <td>0 - never</td>\n",
       "      <td>Yes</td>\n",
       "      <td>1</td>\n",
       "      <td>Female</td>\n",
       "      <td>387</td>\n",
       "    </tr>\n",
       "    <tr>\n",
       "      <th>3</th>\n",
       "      <td>18-20 yrs</td>\n",
       "      <td>more than 4 hr</td>\n",
       "      <td>2 - sometimes</td>\n",
       "      <td>Yes</td>\n",
       "      <td>1</td>\n",
       "      <td>Male</td>\n",
       "      <td>305</td>\n",
       "    </tr>\n",
       "    <tr>\n",
       "      <th>6</th>\n",
       "      <td>18-20 yrs</td>\n",
       "      <td>more than 4 hr</td>\n",
       "      <td>1 - rarely</td>\n",
       "      <td>Yes</td>\n",
       "      <td>1</td>\n",
       "      <td>Male</td>\n",
       "      <td>246</td>\n",
       "    </tr>\n",
       "    <tr>\n",
       "      <th>8</th>\n",
       "      <td>18-20 yrs</td>\n",
       "      <td>more than 4 hr</td>\n",
       "      <td>1 - rarely</td>\n",
       "      <td>No</td>\n",
       "      <td>1</td>\n",
       "      <td>Female</td>\n",
       "      <td>356</td>\n",
       "    </tr>\n",
       "  </tbody>\n",
       "</table>\n",
       "</div>"
      ],
      "text/plain": [
       "      Age group     Screen time Level of dryness Spectacles  Parents  Gender  \\\n",
       "1     18-20 yrs  more than 4 hr        0 - never         No        0  Female   \n",
       "2  Above 20 yrs  more than 4 hr        0 - never        Yes        1  Female   \n",
       "3     18-20 yrs  more than 4 hr    2 - sometimes        Yes        1    Male   \n",
       "6     18-20 yrs  more than 4 hr       1 - rarely        Yes        1    Male   \n",
       "8     18-20 yrs  more than 4 hr       1 - rarely         No        1  Female   \n",
       "\n",
       "   Screen time new  \n",
       "1              347  \n",
       "2              387  \n",
       "3              305  \n",
       "6              246  \n",
       "8              356  "
      ]
     },
     "execution_count": 62,
     "metadata": {},
     "output_type": "execute_result"
    }
   ],
   "source": [
    "new5.head()"
   ]
  },
  {
   "cell_type": "code",
   "execution_count": 63,
   "id": "d05a46dc",
   "metadata": {},
   "outputs": [],
   "source": [
    "lst = [new1,new2,new3,new4,new5]\n",
    "new = pd.concat(lst, ignore_index=True)"
   ]
  },
  {
   "cell_type": "code",
   "execution_count": 64,
   "id": "b378eea2",
   "metadata": {},
   "outputs": [
    {
     "data": {
      "text/html": [
       "<div>\n",
       "<style scoped>\n",
       "    .dataframe tbody tr th:only-of-type {\n",
       "        vertical-align: middle;\n",
       "    }\n",
       "\n",
       "    .dataframe tbody tr th {\n",
       "        vertical-align: top;\n",
       "    }\n",
       "\n",
       "    .dataframe thead th {\n",
       "        text-align: right;\n",
       "    }\n",
       "</style>\n",
       "<table border=\"1\" class=\"dataframe\">\n",
       "  <thead>\n",
       "    <tr style=\"text-align: right;\">\n",
       "      <th></th>\n",
       "      <th>Age group</th>\n",
       "      <th>Screen time</th>\n",
       "      <th>Level of dryness</th>\n",
       "      <th>Spectacles</th>\n",
       "      <th>Parents</th>\n",
       "      <th>Gender</th>\n",
       "      <th>Screen time new</th>\n",
       "    </tr>\n",
       "  </thead>\n",
       "  <tbody>\n",
       "    <tr>\n",
       "      <th>0</th>\n",
       "      <td>15-18 yrs</td>\n",
       "      <td>less than 30 min</td>\n",
       "      <td>0 - never</td>\n",
       "      <td>No</td>\n",
       "      <td>0</td>\n",
       "      <td>Male</td>\n",
       "      <td>24</td>\n",
       "    </tr>\n",
       "    <tr>\n",
       "      <th>1</th>\n",
       "      <td>Above 20 yrs</td>\n",
       "      <td>less than 30 min</td>\n",
       "      <td>0 - never</td>\n",
       "      <td>Yes</td>\n",
       "      <td>1</td>\n",
       "      <td>Female</td>\n",
       "      <td>8</td>\n",
       "    </tr>\n",
       "    <tr>\n",
       "      <th>2</th>\n",
       "      <td>Above 20 yrs</td>\n",
       "      <td>less than 30 min</td>\n",
       "      <td>1 - rarely</td>\n",
       "      <td>No</td>\n",
       "      <td>0</td>\n",
       "      <td>Male</td>\n",
       "      <td>12</td>\n",
       "    </tr>\n",
       "    <tr>\n",
       "      <th>3</th>\n",
       "      <td>Above 20 yrs</td>\n",
       "      <td>less than 30 min</td>\n",
       "      <td>1 - rarely</td>\n",
       "      <td>No</td>\n",
       "      <td>1</td>\n",
       "      <td>Male</td>\n",
       "      <td>19</td>\n",
       "    </tr>\n",
       "    <tr>\n",
       "      <th>4</th>\n",
       "      <td>18-20 yrs</td>\n",
       "      <td>less than 30 min</td>\n",
       "      <td>2 - sometimes</td>\n",
       "      <td>No</td>\n",
       "      <td>0</td>\n",
       "      <td>Male</td>\n",
       "      <td>21</td>\n",
       "    </tr>\n",
       "  </tbody>\n",
       "</table>\n",
       "</div>"
      ],
      "text/plain": [
       "      Age group       Screen time Level of dryness Spectacles  Parents  \\\n",
       "0     15-18 yrs  less than 30 min        0 - never         No        0   \n",
       "1  Above 20 yrs  less than 30 min        0 - never        Yes        1   \n",
       "2  Above 20 yrs  less than 30 min       1 - rarely         No        0   \n",
       "3  Above 20 yrs  less than 30 min       1 - rarely         No        1   \n",
       "4     18-20 yrs  less than 30 min    2 - sometimes         No        0   \n",
       "\n",
       "   Gender  Screen time new  \n",
       "0    Male               24  \n",
       "1  Female                8  \n",
       "2    Male               12  \n",
       "3    Male               19  \n",
       "4    Male               21  "
      ]
     },
     "execution_count": 64,
     "metadata": {},
     "output_type": "execute_result"
    }
   ],
   "source": [
    "new.head()"
   ]
  },
  {
   "cell_type": "code",
   "execution_count": 65,
   "id": "3972e663",
   "metadata": {},
   "outputs": [
    {
     "data": {
      "text/plain": [
       "5"
      ]
     },
     "execution_count": 65,
     "metadata": {},
     "output_type": "execute_result"
    }
   ],
   "source": [
    "new.duplicated().sum()"
   ]
  },
  {
   "cell_type": "code",
   "execution_count": 66,
   "id": "f2f7f8ac",
   "metadata": {},
   "outputs": [],
   "source": [
    "new = new.drop_duplicates()"
   ]
  },
  {
   "cell_type": "code",
   "execution_count": 67,
   "id": "039b87c1",
   "metadata": {},
   "outputs": [
    {
     "data": {
      "text/plain": [
       "0"
      ]
     },
     "execution_count": 67,
     "metadata": {},
     "output_type": "execute_result"
    }
   ],
   "source": [
    "new.duplicated().sum()"
   ]
  },
  {
   "cell_type": "code",
   "execution_count": 68,
   "id": "8af0b021",
   "metadata": {},
   "outputs": [],
   "source": [
    "#new = new.sample(frac=1)"
   ]
  },
  {
   "cell_type": "code",
   "execution_count": 69,
   "id": "938693d4",
   "metadata": {},
   "outputs": [
    {
     "data": {
      "text/html": [
       "<div>\n",
       "<style scoped>\n",
       "    .dataframe tbody tr th:only-of-type {\n",
       "        vertical-align: middle;\n",
       "    }\n",
       "\n",
       "    .dataframe tbody tr th {\n",
       "        vertical-align: top;\n",
       "    }\n",
       "\n",
       "    .dataframe thead th {\n",
       "        text-align: right;\n",
       "    }\n",
       "</style>\n",
       "<table border=\"1\" class=\"dataframe\">\n",
       "  <thead>\n",
       "    <tr style=\"text-align: right;\">\n",
       "      <th></th>\n",
       "      <th>Age group</th>\n",
       "      <th>Screen time</th>\n",
       "      <th>Level of dryness</th>\n",
       "      <th>Spectacles</th>\n",
       "      <th>Parents</th>\n",
       "      <th>Gender</th>\n",
       "      <th>Screen time new</th>\n",
       "    </tr>\n",
       "  </thead>\n",
       "  <tbody>\n",
       "    <tr>\n",
       "      <th>0</th>\n",
       "      <td>15-18 yrs</td>\n",
       "      <td>less than 30 min</td>\n",
       "      <td>0 - never</td>\n",
       "      <td>No</td>\n",
       "      <td>0</td>\n",
       "      <td>Male</td>\n",
       "      <td>24</td>\n",
       "    </tr>\n",
       "    <tr>\n",
       "      <th>1</th>\n",
       "      <td>Above 20 yrs</td>\n",
       "      <td>less than 30 min</td>\n",
       "      <td>0 - never</td>\n",
       "      <td>Yes</td>\n",
       "      <td>1</td>\n",
       "      <td>Female</td>\n",
       "      <td>8</td>\n",
       "    </tr>\n",
       "    <tr>\n",
       "      <th>2</th>\n",
       "      <td>Above 20 yrs</td>\n",
       "      <td>less than 30 min</td>\n",
       "      <td>1 - rarely</td>\n",
       "      <td>No</td>\n",
       "      <td>0</td>\n",
       "      <td>Male</td>\n",
       "      <td>12</td>\n",
       "    </tr>\n",
       "    <tr>\n",
       "      <th>3</th>\n",
       "      <td>Above 20 yrs</td>\n",
       "      <td>less than 30 min</td>\n",
       "      <td>1 - rarely</td>\n",
       "      <td>No</td>\n",
       "      <td>1</td>\n",
       "      <td>Male</td>\n",
       "      <td>19</td>\n",
       "    </tr>\n",
       "    <tr>\n",
       "      <th>4</th>\n",
       "      <td>18-20 yrs</td>\n",
       "      <td>less than 30 min</td>\n",
       "      <td>2 - sometimes</td>\n",
       "      <td>No</td>\n",
       "      <td>0</td>\n",
       "      <td>Male</td>\n",
       "      <td>21</td>\n",
       "    </tr>\n",
       "  </tbody>\n",
       "</table>\n",
       "</div>"
      ],
      "text/plain": [
       "      Age group       Screen time Level of dryness Spectacles  Parents  \\\n",
       "0     15-18 yrs  less than 30 min        0 - never         No        0   \n",
       "1  Above 20 yrs  less than 30 min        0 - never        Yes        1   \n",
       "2  Above 20 yrs  less than 30 min       1 - rarely         No        0   \n",
       "3  Above 20 yrs  less than 30 min       1 - rarely         No        1   \n",
       "4     18-20 yrs  less than 30 min    2 - sometimes         No        0   \n",
       "\n",
       "   Gender  Screen time new  \n",
       "0    Male               24  \n",
       "1  Female                8  \n",
       "2    Male               12  \n",
       "3    Male               19  \n",
       "4    Male               21  "
      ]
     },
     "execution_count": 69,
     "metadata": {},
     "output_type": "execute_result"
    }
   ],
   "source": [
    "new.head()"
   ]
  },
  {
   "cell_type": "code",
   "execution_count": 70,
   "id": "3d5f477c",
   "metadata": {},
   "outputs": [],
   "source": [
    "#new.to_excel(\"E:/Eye new.xlsx\")"
   ]
  },
  {
   "cell_type": "code",
   "execution_count": null,
   "id": "2297fac0",
   "metadata": {},
   "outputs": [],
   "source": []
  }
 ],
 "metadata": {
  "kernelspec": {
   "display_name": "Python 3 (ipykernel)",
   "language": "python",
   "name": "python3"
  },
  "language_info": {
   "codemirror_mode": {
    "name": "ipython",
    "version": 3
   },
   "file_extension": ".py",
   "mimetype": "text/x-python",
   "name": "python",
   "nbconvert_exporter": "python",
   "pygments_lexer": "ipython3",
   "version": "3.10.9"
  }
 },
 "nbformat": 4,
 "nbformat_minor": 5
}
